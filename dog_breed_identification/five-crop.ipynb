{
 "cells": [
  {
   "cell_type": "code",
   "execution_count": 1,
   "metadata": {},
   "outputs": [],
   "source": [
    "from train import *"
   ]
  },
  {
   "cell_type": "code",
   "execution_count": 2,
   "metadata": {},
   "outputs": [
    {
     "data": {
      "text/plain": [
       "10357"
      ]
     },
     "execution_count": 2,
     "metadata": {},
     "output_type": "execute_result"
    }
   ],
   "source": [
    "import pandas as pd\n",
    "\n",
    "df = pd.read_csv('./data/sample_submission.csv')\n",
    "len(df['id'])"
   ]
  },
  {
   "cell_type": "code",
   "execution_count": 4,
   "metadata": {},
   "outputs": [
    {
     "name": "stderr",
     "output_type": "stream",
     "text": [
      "GPU available: True (cuda), used: True\n",
      "TPU available: False, using: 0 TPU cores\n",
      "IPU available: False, using: 0 IPUs\n",
      "HPU available: False, using: 0 HPUs\n",
      "LOCAL_RANK: 0 - CUDA_VISIBLE_DEVICES: [0]\n"
     ]
    },
    {
     "data": {
      "application/vnd.jupyter.widget-view+json": {
       "model_id": "9eeaf8cbcd6b49fc94f417556e5c840a",
       "version_major": 2,
       "version_minor": 0
      },
      "text/plain": [
       "Predicting: |          | 0/? [00:00<?, ?it/s]"
      ]
     },
     "metadata": {},
     "output_type": "display_data"
    },
    {
     "data": {
      "text/plain": [
       "2"
      ]
     },
     "execution_count": 4,
     "metadata": {},
     "output_type": "execute_result"
    }
   ],
   "source": [
    "model = ResNet('resnet18', pretrained=True)\n",
    "data = DogData()\n",
    "trainer = pl.Trainer(max_epochs=0, logger=False)\n",
    "predictions = trainer.predict(model, datamodule=data)\n",
    "len(predictions)"
   ]
  },
  {
   "cell_type": "code",
   "execution_count": 6,
   "metadata": {},
   "outputs": [
    {
     "data": {
      "text/plain": [
       "81"
      ]
     },
     "execution_count": 6,
     "metadata": {},
     "output_type": "execute_result"
    }
   ],
   "source": [
    "len(predictions[0])"
   ]
  },
  {
   "cell_type": "code",
   "execution_count": 7,
   "metadata": {},
   "outputs": [
    {
     "data": {
      "text/plain": [
       "81"
      ]
     },
     "execution_count": 7,
     "metadata": {},
     "output_type": "execute_result"
    }
   ],
   "source": [
    "len(predictions[1])"
   ]
  },
  {
   "cell_type": "code",
   "execution_count": 8,
   "metadata": {},
   "outputs": [],
   "source": [
    "def max_to_one(tensor):\n",
    "    row_max_values, _ = torch.max(tensor, dim=1, keepdim=True)\n",
    "    result_tensor = torch.where(tensor == row_max_values, torch.tensor(1.0), torch.tensor(0.0))\n",
    "\n",
    "    return result_tensor"
   ]
  },
  {
   "cell_type": "code",
   "execution_count": 9,
   "metadata": {},
   "outputs": [],
   "source": [
    "preds1 = [row.tolist() for item in predictions[0] for row in max_to_one(item)]"
   ]
  },
  {
   "cell_type": "code",
   "execution_count": 21,
   "metadata": {},
   "outputs": [
    {
     "data": {
      "text/plain": [
       "120"
      ]
     },
     "execution_count": 21,
     "metadata": {},
     "output_type": "execute_result"
    }
   ],
   "source": [
    "columns = df.columns.tolist()\n",
    "columns.pop(0)\n",
    "len(columns)"
   ]
  },
  {
   "cell_type": "code",
   "execution_count": 22,
   "metadata": {},
   "outputs": [
    {
     "data": {
      "text/html": [
       "<div>\n",
       "<style scoped>\n",
       "    .dataframe tbody tr th:only-of-type {\n",
       "        vertical-align: middle;\n",
       "    }\n",
       "\n",
       "    .dataframe tbody tr th {\n",
       "        vertical-align: top;\n",
       "    }\n",
       "\n",
       "    .dataframe thead th {\n",
       "        text-align: right;\n",
       "    }\n",
       "</style>\n",
       "<table border=\"1\" class=\"dataframe\">\n",
       "  <thead>\n",
       "    <tr style=\"text-align: right;\">\n",
       "      <th></th>\n",
       "      <th>affenpinscher</th>\n",
       "      <th>afghan_hound</th>\n",
       "      <th>african_hunting_dog</th>\n",
       "      <th>airedale</th>\n",
       "      <th>american_staffordshire_terrier</th>\n",
       "      <th>appenzeller</th>\n",
       "      <th>australian_terrier</th>\n",
       "      <th>basenji</th>\n",
       "      <th>basset</th>\n",
       "      <th>beagle</th>\n",
       "      <th>...</th>\n",
       "      <th>toy_poodle</th>\n",
       "      <th>toy_terrier</th>\n",
       "      <th>vizsla</th>\n",
       "      <th>walker_hound</th>\n",
       "      <th>weimaraner</th>\n",
       "      <th>welsh_springer_spaniel</th>\n",
       "      <th>west_highland_white_terrier</th>\n",
       "      <th>whippet</th>\n",
       "      <th>wire-haired_fox_terrier</th>\n",
       "      <th>yorkshire_terrier</th>\n",
       "    </tr>\n",
       "  </thead>\n",
       "  <tbody>\n",
       "    <tr>\n",
       "      <th>0</th>\n",
       "      <td>0.0</td>\n",
       "      <td>0.0</td>\n",
       "      <td>0.0</td>\n",
       "      <td>0.0</td>\n",
       "      <td>0.0</td>\n",
       "      <td>0.0</td>\n",
       "      <td>0.0</td>\n",
       "      <td>0.0</td>\n",
       "      <td>0.0</td>\n",
       "      <td>0.0</td>\n",
       "      <td>...</td>\n",
       "      <td>0.0</td>\n",
       "      <td>0.0</td>\n",
       "      <td>0.0</td>\n",
       "      <td>0.0</td>\n",
       "      <td>0.0</td>\n",
       "      <td>0.0</td>\n",
       "      <td>0.0</td>\n",
       "      <td>0.0</td>\n",
       "      <td>0.0</td>\n",
       "      <td>0.0</td>\n",
       "    </tr>\n",
       "    <tr>\n",
       "      <th>1</th>\n",
       "      <td>0.0</td>\n",
       "      <td>0.0</td>\n",
       "      <td>0.0</td>\n",
       "      <td>0.0</td>\n",
       "      <td>0.0</td>\n",
       "      <td>0.0</td>\n",
       "      <td>0.0</td>\n",
       "      <td>0.0</td>\n",
       "      <td>0.0</td>\n",
       "      <td>0.0</td>\n",
       "      <td>...</td>\n",
       "      <td>0.0</td>\n",
       "      <td>0.0</td>\n",
       "      <td>0.0</td>\n",
       "      <td>0.0</td>\n",
       "      <td>0.0</td>\n",
       "      <td>0.0</td>\n",
       "      <td>0.0</td>\n",
       "      <td>0.0</td>\n",
       "      <td>0.0</td>\n",
       "      <td>0.0</td>\n",
       "    </tr>\n",
       "    <tr>\n",
       "      <th>2</th>\n",
       "      <td>0.0</td>\n",
       "      <td>0.0</td>\n",
       "      <td>0.0</td>\n",
       "      <td>0.0</td>\n",
       "      <td>0.0</td>\n",
       "      <td>0.0</td>\n",
       "      <td>0.0</td>\n",
       "      <td>0.0</td>\n",
       "      <td>0.0</td>\n",
       "      <td>0.0</td>\n",
       "      <td>...</td>\n",
       "      <td>0.0</td>\n",
       "      <td>0.0</td>\n",
       "      <td>0.0</td>\n",
       "      <td>0.0</td>\n",
       "      <td>0.0</td>\n",
       "      <td>0.0</td>\n",
       "      <td>0.0</td>\n",
       "      <td>0.0</td>\n",
       "      <td>0.0</td>\n",
       "      <td>0.0</td>\n",
       "    </tr>\n",
       "    <tr>\n",
       "      <th>3</th>\n",
       "      <td>0.0</td>\n",
       "      <td>0.0</td>\n",
       "      <td>0.0</td>\n",
       "      <td>0.0</td>\n",
       "      <td>0.0</td>\n",
       "      <td>0.0</td>\n",
       "      <td>0.0</td>\n",
       "      <td>0.0</td>\n",
       "      <td>0.0</td>\n",
       "      <td>0.0</td>\n",
       "      <td>...</td>\n",
       "      <td>0.0</td>\n",
       "      <td>0.0</td>\n",
       "      <td>0.0</td>\n",
       "      <td>0.0</td>\n",
       "      <td>0.0</td>\n",
       "      <td>0.0</td>\n",
       "      <td>0.0</td>\n",
       "      <td>0.0</td>\n",
       "      <td>0.0</td>\n",
       "      <td>0.0</td>\n",
       "    </tr>\n",
       "    <tr>\n",
       "      <th>4</th>\n",
       "      <td>0.0</td>\n",
       "      <td>0.0</td>\n",
       "      <td>0.0</td>\n",
       "      <td>0.0</td>\n",
       "      <td>0.0</td>\n",
       "      <td>0.0</td>\n",
       "      <td>0.0</td>\n",
       "      <td>0.0</td>\n",
       "      <td>0.0</td>\n",
       "      <td>0.0</td>\n",
       "      <td>...</td>\n",
       "      <td>0.0</td>\n",
       "      <td>0.0</td>\n",
       "      <td>0.0</td>\n",
       "      <td>0.0</td>\n",
       "      <td>0.0</td>\n",
       "      <td>0.0</td>\n",
       "      <td>0.0</td>\n",
       "      <td>0.0</td>\n",
       "      <td>0.0</td>\n",
       "      <td>0.0</td>\n",
       "    </tr>\n",
       "    <tr>\n",
       "      <th>...</th>\n",
       "      <td>...</td>\n",
       "      <td>...</td>\n",
       "      <td>...</td>\n",
       "      <td>...</td>\n",
       "      <td>...</td>\n",
       "      <td>...</td>\n",
       "      <td>...</td>\n",
       "      <td>...</td>\n",
       "      <td>...</td>\n",
       "      <td>...</td>\n",
       "      <td>...</td>\n",
       "      <td>...</td>\n",
       "      <td>...</td>\n",
       "      <td>...</td>\n",
       "      <td>...</td>\n",
       "      <td>...</td>\n",
       "      <td>...</td>\n",
       "      <td>...</td>\n",
       "      <td>...</td>\n",
       "      <td>...</td>\n",
       "      <td>...</td>\n",
       "    </tr>\n",
       "    <tr>\n",
       "      <th>10352</th>\n",
       "      <td>0.0</td>\n",
       "      <td>0.0</td>\n",
       "      <td>0.0</td>\n",
       "      <td>0.0</td>\n",
       "      <td>0.0</td>\n",
       "      <td>0.0</td>\n",
       "      <td>0.0</td>\n",
       "      <td>0.0</td>\n",
       "      <td>0.0</td>\n",
       "      <td>0.0</td>\n",
       "      <td>...</td>\n",
       "      <td>0.0</td>\n",
       "      <td>0.0</td>\n",
       "      <td>0.0</td>\n",
       "      <td>0.0</td>\n",
       "      <td>0.0</td>\n",
       "      <td>0.0</td>\n",
       "      <td>0.0</td>\n",
       "      <td>0.0</td>\n",
       "      <td>0.0</td>\n",
       "      <td>0.0</td>\n",
       "    </tr>\n",
       "    <tr>\n",
       "      <th>10353</th>\n",
       "      <td>0.0</td>\n",
       "      <td>0.0</td>\n",
       "      <td>0.0</td>\n",
       "      <td>0.0</td>\n",
       "      <td>0.0</td>\n",
       "      <td>0.0</td>\n",
       "      <td>0.0</td>\n",
       "      <td>0.0</td>\n",
       "      <td>0.0</td>\n",
       "      <td>0.0</td>\n",
       "      <td>...</td>\n",
       "      <td>0.0</td>\n",
       "      <td>0.0</td>\n",
       "      <td>0.0</td>\n",
       "      <td>0.0</td>\n",
       "      <td>0.0</td>\n",
       "      <td>0.0</td>\n",
       "      <td>0.0</td>\n",
       "      <td>0.0</td>\n",
       "      <td>0.0</td>\n",
       "      <td>0.0</td>\n",
       "    </tr>\n",
       "    <tr>\n",
       "      <th>10354</th>\n",
       "      <td>0.0</td>\n",
       "      <td>0.0</td>\n",
       "      <td>0.0</td>\n",
       "      <td>0.0</td>\n",
       "      <td>0.0</td>\n",
       "      <td>0.0</td>\n",
       "      <td>0.0</td>\n",
       "      <td>0.0</td>\n",
       "      <td>0.0</td>\n",
       "      <td>0.0</td>\n",
       "      <td>...</td>\n",
       "      <td>0.0</td>\n",
       "      <td>0.0</td>\n",
       "      <td>0.0</td>\n",
       "      <td>0.0</td>\n",
       "      <td>0.0</td>\n",
       "      <td>0.0</td>\n",
       "      <td>0.0</td>\n",
       "      <td>0.0</td>\n",
       "      <td>0.0</td>\n",
       "      <td>0.0</td>\n",
       "    </tr>\n",
       "    <tr>\n",
       "      <th>10355</th>\n",
       "      <td>0.0</td>\n",
       "      <td>0.0</td>\n",
       "      <td>0.0</td>\n",
       "      <td>0.0</td>\n",
       "      <td>0.0</td>\n",
       "      <td>0.0</td>\n",
       "      <td>0.0</td>\n",
       "      <td>0.0</td>\n",
       "      <td>0.0</td>\n",
       "      <td>0.0</td>\n",
       "      <td>...</td>\n",
       "      <td>0.0</td>\n",
       "      <td>0.0</td>\n",
       "      <td>0.0</td>\n",
       "      <td>0.0</td>\n",
       "      <td>0.0</td>\n",
       "      <td>0.0</td>\n",
       "      <td>0.0</td>\n",
       "      <td>0.0</td>\n",
       "      <td>0.0</td>\n",
       "      <td>0.0</td>\n",
       "    </tr>\n",
       "    <tr>\n",
       "      <th>10356</th>\n",
       "      <td>0.0</td>\n",
       "      <td>0.0</td>\n",
       "      <td>0.0</td>\n",
       "      <td>0.0</td>\n",
       "      <td>0.0</td>\n",
       "      <td>0.0</td>\n",
       "      <td>0.0</td>\n",
       "      <td>0.0</td>\n",
       "      <td>0.0</td>\n",
       "      <td>0.0</td>\n",
       "      <td>...</td>\n",
       "      <td>0.0</td>\n",
       "      <td>0.0</td>\n",
       "      <td>0.0</td>\n",
       "      <td>0.0</td>\n",
       "      <td>0.0</td>\n",
       "      <td>0.0</td>\n",
       "      <td>0.0</td>\n",
       "      <td>0.0</td>\n",
       "      <td>0.0</td>\n",
       "      <td>1.0</td>\n",
       "    </tr>\n",
       "  </tbody>\n",
       "</table>\n",
       "<p>10357 rows × 120 columns</p>\n",
       "</div>"
      ],
      "text/plain": [
       "       affenpinscher  afghan_hound  african_hunting_dog  airedale  \\\n",
       "0                0.0           0.0                  0.0       0.0   \n",
       "1                0.0           0.0                  0.0       0.0   \n",
       "2                0.0           0.0                  0.0       0.0   \n",
       "3                0.0           0.0                  0.0       0.0   \n",
       "4                0.0           0.0                  0.0       0.0   \n",
       "...              ...           ...                  ...       ...   \n",
       "10352            0.0           0.0                  0.0       0.0   \n",
       "10353            0.0           0.0                  0.0       0.0   \n",
       "10354            0.0           0.0                  0.0       0.0   \n",
       "10355            0.0           0.0                  0.0       0.0   \n",
       "10356            0.0           0.0                  0.0       0.0   \n",
       "\n",
       "       american_staffordshire_terrier  appenzeller  australian_terrier  \\\n",
       "0                                 0.0          0.0                 0.0   \n",
       "1                                 0.0          0.0                 0.0   \n",
       "2                                 0.0          0.0                 0.0   \n",
       "3                                 0.0          0.0                 0.0   \n",
       "4                                 0.0          0.0                 0.0   \n",
       "...                               ...          ...                 ...   \n",
       "10352                             0.0          0.0                 0.0   \n",
       "10353                             0.0          0.0                 0.0   \n",
       "10354                             0.0          0.0                 0.0   \n",
       "10355                             0.0          0.0                 0.0   \n",
       "10356                             0.0          0.0                 0.0   \n",
       "\n",
       "       basenji  basset  beagle  ...  toy_poodle  toy_terrier  vizsla  \\\n",
       "0          0.0     0.0     0.0  ...         0.0          0.0     0.0   \n",
       "1          0.0     0.0     0.0  ...         0.0          0.0     0.0   \n",
       "2          0.0     0.0     0.0  ...         0.0          0.0     0.0   \n",
       "3          0.0     0.0     0.0  ...         0.0          0.0     0.0   \n",
       "4          0.0     0.0     0.0  ...         0.0          0.0     0.0   \n",
       "...        ...     ...     ...  ...         ...          ...     ...   \n",
       "10352      0.0     0.0     0.0  ...         0.0          0.0     0.0   \n",
       "10353      0.0     0.0     0.0  ...         0.0          0.0     0.0   \n",
       "10354      0.0     0.0     0.0  ...         0.0          0.0     0.0   \n",
       "10355      0.0     0.0     0.0  ...         0.0          0.0     0.0   \n",
       "10356      0.0     0.0     0.0  ...         0.0          0.0     0.0   \n",
       "\n",
       "       walker_hound  weimaraner  welsh_springer_spaniel  \\\n",
       "0               0.0         0.0                     0.0   \n",
       "1               0.0         0.0                     0.0   \n",
       "2               0.0         0.0                     0.0   \n",
       "3               0.0         0.0                     0.0   \n",
       "4               0.0         0.0                     0.0   \n",
       "...             ...         ...                     ...   \n",
       "10352           0.0         0.0                     0.0   \n",
       "10353           0.0         0.0                     0.0   \n",
       "10354           0.0         0.0                     0.0   \n",
       "10355           0.0         0.0                     0.0   \n",
       "10356           0.0         0.0                     0.0   \n",
       "\n",
       "       west_highland_white_terrier  whippet  wire-haired_fox_terrier  \\\n",
       "0                              0.0      0.0                      0.0   \n",
       "1                              0.0      0.0                      0.0   \n",
       "2                              0.0      0.0                      0.0   \n",
       "3                              0.0      0.0                      0.0   \n",
       "4                              0.0      0.0                      0.0   \n",
       "...                            ...      ...                      ...   \n",
       "10352                          0.0      0.0                      0.0   \n",
       "10353                          0.0      0.0                      0.0   \n",
       "10354                          0.0      0.0                      0.0   \n",
       "10355                          0.0      0.0                      0.0   \n",
       "10356                          0.0      0.0                      0.0   \n",
       "\n",
       "       yorkshire_terrier  \n",
       "0                    0.0  \n",
       "1                    0.0  \n",
       "2                    0.0  \n",
       "3                    0.0  \n",
       "4                    0.0  \n",
       "...                  ...  \n",
       "10352                0.0  \n",
       "10353                0.0  \n",
       "10354                0.0  \n",
       "10355                0.0  \n",
       "10356                1.0  \n",
       "\n",
       "[10357 rows x 120 columns]"
      ]
     },
     "execution_count": 22,
     "metadata": {},
     "output_type": "execute_result"
    }
   ],
   "source": [
    "pd.DataFrame(preds1, columns=columns)"
   ]
  },
  {
   "cell_type": "code",
   "execution_count": 25,
   "metadata": {},
   "outputs": [
    {
     "data": {
      "text/plain": [
       "(torch.Size([128, 120]), torch.Size([640, 120]))"
      ]
     },
     "execution_count": 25,
     "metadata": {},
     "output_type": "execute_result"
    }
   ],
   "source": [
    "predictions[0][0].shape, predictions[1][0].shape"
   ]
  },
  {
   "cell_type": "code",
   "execution_count": 30,
   "metadata": {},
   "outputs": [],
   "source": [
    "tmp = predictions[1][0][:5]"
   ]
  },
  {
   "cell_type": "code",
   "execution_count": 31,
   "metadata": {},
   "outputs": [
    {
     "data": {
      "text/plain": [
       "torch.Size([5, 120])"
      ]
     },
     "execution_count": 31,
     "metadata": {},
     "output_type": "execute_result"
    }
   ],
   "source": [
    "tmp.shape"
   ]
  },
  {
   "cell_type": "code",
   "execution_count": 34,
   "metadata": {},
   "outputs": [
    {
     "data": {
      "text/plain": [
       "torch.Size([5, 120])"
      ]
     },
     "execution_count": 34,
     "metadata": {},
     "output_type": "execute_result"
    }
   ],
   "source": [
    "tmp.shape"
   ]
  },
  {
   "cell_type": "code",
   "execution_count": 38,
   "metadata": {},
   "outputs": [
    {
     "data": {
      "text/plain": [
       "tensor(6.6875)"
      ]
     },
     "execution_count": 38,
     "metadata": {},
     "output_type": "execute_result"
    }
   ],
   "source": [
    "tmp.sum(dim=0)[31]"
   ]
  },
  {
   "cell_type": "code",
   "execution_count": 39,
   "metadata": {},
   "outputs": [
    {
     "data": {
      "text/plain": [
       "tensor(8.3306)"
      ]
     },
     "execution_count": 39,
     "metadata": {},
     "output_type": "execute_result"
    }
   ],
   "source": [
    "tmp.sum(dim=0)[109]"
   ]
  },
  {
   "cell_type": "code",
   "execution_count": 42,
   "metadata": {},
   "outputs": [
    {
     "data": {
      "text/plain": [
       "torch.Size([640, 120])"
      ]
     },
     "execution_count": 42,
     "metadata": {},
     "output_type": "execute_result"
    }
   ],
   "source": [
    "tmp = predictions[1][0]\n",
    "tmp.shape"
   ]
  },
  {
   "cell_type": "code",
   "execution_count": 55,
   "metadata": {},
   "outputs": [
    {
     "data": {
      "text/plain": [
       "tensor([[ 4.7246e+00, -9.4453e-01, -9.2844e-01,  ..., -7.3591e+00,\n",
       "         -2.5798e+00,  4.8392e+00],\n",
       "        [ 1.2414e+00, -1.8089e+00,  3.8826e+00,  ..., -5.3644e+00,\n",
       "         -1.1778e+00,  2.6887e+00],\n",
       "        [-2.8432e+00, -7.3294e+00, -2.5520e-01,  ..., -4.3879e+00,\n",
       "          5.8176e+00,  8.1218e+00],\n",
       "        ...,\n",
       "        [-2.1636e+00, -3.8289e-02,  3.3641e-01,  ..., -2.8932e+00,\n",
       "          1.5983e+00,  2.6288e+00],\n",
       "        [-5.9772e-01, -2.3351e+00, -6.0127e+00,  ..., -1.2376e+00,\n",
       "          1.0895e+00,  3.6525e+00],\n",
       "        [-1.0216e+00, -2.0529e+00,  1.5538e-03,  ..., -4.4795e+00,\n",
       "          5.1601e+00,  6.8866e+00]])"
      ]
     },
     "execution_count": 55,
     "metadata": {},
     "output_type": "execute_result"
    }
   ],
   "source": [
    "tmp.view(-1,5,tmp.shape[-1]).sum(dim=1)"
   ]
  },
  {
   "cell_type": "code",
   "execution_count": 2,
   "metadata": {},
   "outputs": [
    {
     "name": "stderr",
     "output_type": "stream",
     "text": [
      "/usr/lib/python3.11/site-packages/torch/nn/modules/lazy.py:180: UserWarning: Lazy modules are a new feature under heavy development so changes to the API or functionality can happen at any moment.\n",
      "  warnings.warn('Lazy modules are a new feature under heavy development '\n",
      "GPU available: True (cuda), used: True\n",
      "TPU available: False, using: 0 TPU cores\n",
      "IPU available: False, using: 0 IPUs\n",
      "HPU available: False, using: 0 HPUs\n",
      "LOCAL_RANK: 0 - CUDA_VISIBLE_DEVICES: [0]\n"
     ]
    },
    {
     "data": {
      "application/vnd.jupyter.widget-view+json": {
       "model_id": "879414c90d6b4eefa5c2254ba8ffb938",
       "version_major": 2,
       "version_minor": 0
      },
      "text/plain": [
       "Predicting: |          | 0/? [00:00<?, ?it/s]"
      ]
     },
     "metadata": {},
     "output_type": "display_data"
    }
   ],
   "source": [
    "from train import *\n",
    "\n",
    "model = ResNet('resnet18', pretrained=True)\n",
    "data = DogData(five_crop=True)\n",
    "trainer = pl.Trainer(max_epochs=0, logger=False, callbacks=Submission())\n",
    "trainer.predict(model, datamodule=data);"
   ]
  },
  {
   "cell_type": "code",
   "execution_count": 1,
   "metadata": {},
   "outputs": [
    {
     "name": "stderr",
     "output_type": "stream",
     "text": [
      "/usr/lib/python3.11/site-packages/torch/nn/modules/lazy.py:180: UserWarning: Lazy modules are a new feature under heavy development so changes to the API or functionality can happen at any moment.\n",
      "  warnings.warn('Lazy modules are a new feature under heavy development '\n",
      "GPU available: True (cuda), used: True\n",
      "TPU available: False, using: 0 TPU cores\n",
      "IPU available: False, using: 0 IPUs\n",
      "HPU available: False, using: 0 HPUs\n",
      "LOCAL_RANK: 0 - CUDA_VISIBLE_DEVICES: [0]\n"
     ]
    },
    {
     "data": {
      "application/vnd.jupyter.widget-view+json": {
       "model_id": "1d8a093bce4043519bac5f32b345175e",
       "version_major": 2,
       "version_minor": 0
      },
      "text/plain": [
       "Predicting: |          | 0/? [00:00<?, ?it/s]"
      ]
     },
     "metadata": {},
     "output_type": "display_data"
    }
   ],
   "source": [
    "from train import *\n",
    "\n",
    "model = ResNet('resnet18', pretrained=True)\n",
    "data = DogData(five_crop=False)\n",
    "trainer = pl.Trainer(max_epochs=0, logger=False, callbacks=Submission())\n",
    "trainer.predict(model, datamodule=data);"
   ]
  },
  {
   "cell_type": "code",
   "execution_count": 1,
   "metadata": {},
   "outputs": [
    {
     "name": "stderr",
     "output_type": "stream",
     "text": [
      "GPU available: True (cuda), used: True\n",
      "TPU available: False, using: 0 TPU cores\n",
      "IPU available: False, using: 0 IPUs\n",
      "HPU available: False, using: 0 HPUs\n",
      "LOCAL_RANK: 0 - CUDA_VISIBLE_DEVICES: [0]\n"
     ]
    },
    {
     "data": {
      "application/vnd.jupyter.widget-view+json": {
       "model_id": "3717eb46213845e99c27508dc6533199",
       "version_major": 2,
       "version_minor": 0
      },
      "text/plain": [
       "Predicting: |          | 0/? [00:00<?, ?it/s]"
      ]
     },
     "metadata": {},
     "output_type": "display_data"
    },
    {
     "name": "stderr",
     "output_type": "stream",
     "text": [
      "/root/kaggle/dog_breed_identification/callback.py:54: UserWarning: Implicit dimension choice for softmax has been deprecated. Change the call to include dim=X as an argument.\n",
      "  preds = [row.tolist() for item in predictions_centercrop for row in F.softmax(item)]\n",
      "/root/kaggle/dog_breed_identification/callback.py:62: UserWarning: Implicit dimension choice for softmax has been deprecated. Change the call to include dim=X as an argument.\n",
      "  for row in F.softmax(item.view(-1, 5, item.shape[-1]).sum(dim=1))\n"
     ]
    }
   ],
   "source": [
    "from train import *\n",
    "\n",
    "model = ResNet('resnet152', pretrained=True)\n",
    "model.load_state_dict(torch.load('./lightning_logs/ResNet152_mix_freeze_all/checkpoints/resnet152-epoch=09-step=5750.ckpt')['state_dict'])\n",
    "data = DogData(five_crop=True, batch_size=32)\n",
    "trainer = pl.Trainer(max_epochs=0, logger=False, callbacks=Submission())\n",
    "trainer.predict(model, datamodule=data);"
   ]
  },
  {
   "cell_type": "code",
   "execution_count": 1,
   "metadata": {},
   "outputs": [
    {
     "name": "stderr",
     "output_type": "stream",
     "text": [
      "GPU available: True (cuda), used: True\n",
      "TPU available: False, using: 0 TPU cores\n",
      "IPU available: False, using: 0 IPUs\n",
      "HPU available: False, using: 0 HPUs\n",
      "LOCAL_RANK: 0 - CUDA_VISIBLE_DEVICES: [0]\n"
     ]
    },
    {
     "data": {
      "application/vnd.jupyter.widget-view+json": {
       "model_id": "40134d61e89f487cad2e586a5c0837b7",
       "version_major": 2,
       "version_minor": 0
      },
      "text/plain": [
       "Predicting: |          | 0/? [00:00<?, ?it/s]"
      ]
     },
     "metadata": {},
     "output_type": "display_data"
    }
   ],
   "source": [
    "from train import *\n",
    "\n",
    "model = ResNet('resnet152', pretrained=True)\n",
    "model.load_state_dict(torch.load('./lightning_logs/ResNet152_mix_freeze_all/checkpoints/resnet152-epoch=09-step=5750.ckpt')['state_dict'])\n",
    "data = DogData(five_crop=False, batch_size=32)\n",
    "trainer = pl.Trainer(max_epochs=0, logger=False)\n",
    "predictions = trainer.predict(model, datamodule=data)"
   ]
  },
  {
   "cell_type": "code",
   "execution_count": 4,
   "metadata": {},
   "outputs": [
    {
     "data": {
      "text/plain": [
       "tensor([ 61,  94,  40,  88, 109, 105,   6,  94,  59, 107, 109,  98,  78,  81,\n",
       "          9,  69,  29,  98,  57,  93,  96, 101,  74,  67,  56,  54,  14,  51,\n",
       "         40,   3,  46,  18])"
      ]
     },
     "execution_count": 4,
     "metadata": {},
     "output_type": "execute_result"
    }
   ],
   "source": [
    "predictions[0].argmax(dim=1)"
   ]
  },
  {
   "cell_type": "code",
   "execution_count": 9,
   "metadata": {},
   "outputs": [
    {
     "data": {
      "text/plain": [
       "tensor([[0.0006, 0.0008, 0.0014,  ..., 0.0015, 0.0023, 0.0009],\n",
       "        [0.0006, 0.0005, 0.0014,  ..., 0.0026, 0.0012, 0.0012],\n",
       "        [0.0012, 0.0074, 0.0014,  ..., 0.0049, 0.0027, 0.0013],\n",
       "        ...,\n",
       "        [0.0012, 0.0021, 0.0018,  ..., 0.0020, 0.0825, 0.0019],\n",
       "        [0.0005, 0.0004, 0.0005,  ..., 0.0013, 0.0007, 0.0007],\n",
       "        [0.0008, 0.0020, 0.0015,  ..., 0.0059, 0.0010, 0.0003]])"
      ]
     },
     "execution_count": 9,
     "metadata": {},
     "output_type": "execute_result"
    }
   ],
   "source": [
    "predictions[0].softmax(dim=1)"
   ]
  },
  {
   "cell_type": "code",
   "execution_count": 10,
   "metadata": {},
   "outputs": [
    {
     "data": {
      "text/plain": [
       "tensor([ 61,  94,  40,  88, 109, 105,   6,  94,  59, 107, 109,  98,  78,  81,\n",
       "          9,  69,  29,  98,  57,  93,  96, 101,  74,  67,  56,  54,  14,  51,\n",
       "         40,   3,  46,  18])"
      ]
     },
     "execution_count": 10,
     "metadata": {},
     "output_type": "execute_result"
    }
   ],
   "source": [
    "predictions[0].softmax(dim=1).argmax(dim=1)"
   ]
  },
  {
   "cell_type": "code",
   "execution_count": 12,
   "metadata": {},
   "outputs": [
    {
     "name": "stderr",
     "output_type": "stream",
     "text": [
      "/tmp/ipykernel_3728/1357955869.py:1: UserWarning: Implicit dimension choice for softmax has been deprecated. Change the call to include dim=X as an argument.\n",
      "  torch.nn.functional.softmax(predictions[0])\n"
     ]
    },
    {
     "data": {
      "text/plain": [
       "tensor([[0.0006, 0.0008, 0.0014,  ..., 0.0015, 0.0023, 0.0009],\n",
       "        [0.0006, 0.0005, 0.0014,  ..., 0.0026, 0.0012, 0.0012],\n",
       "        [0.0012, 0.0074, 0.0014,  ..., 0.0049, 0.0027, 0.0013],\n",
       "        ...,\n",
       "        [0.0012, 0.0021, 0.0018,  ..., 0.0020, 0.0825, 0.0019],\n",
       "        [0.0005, 0.0004, 0.0005,  ..., 0.0013, 0.0007, 0.0007],\n",
       "        [0.0008, 0.0020, 0.0015,  ..., 0.0059, 0.0010, 0.0003]])"
      ]
     },
     "execution_count": 12,
     "metadata": {},
     "output_type": "execute_result"
    }
   ],
   "source": [
    "torch.nn.functional.softmax(predictions[0])"
   ]
  },
  {
   "cell_type": "code",
   "execution_count": 13,
   "metadata": {},
   "outputs": [
    {
     "data": {
      "text/plain": [
       "tensor([[0.0006, 0.0008, 0.0014,  ..., 0.0015, 0.0023, 0.0009],\n",
       "        [0.0006, 0.0005, 0.0014,  ..., 0.0026, 0.0012, 0.0012],\n",
       "        [0.0012, 0.0074, 0.0014,  ..., 0.0049, 0.0027, 0.0013],\n",
       "        ...,\n",
       "        [0.0012, 0.0021, 0.0018,  ..., 0.0020, 0.0825, 0.0019],\n",
       "        [0.0005, 0.0004, 0.0005,  ..., 0.0013, 0.0007, 0.0007],\n",
       "        [0.0008, 0.0020, 0.0015,  ..., 0.0059, 0.0010, 0.0003]])"
      ]
     },
     "execution_count": 13,
     "metadata": {},
     "output_type": "execute_result"
    }
   ],
   "source": [
    "torch.nn.functional.softmax(predictions[0], dim=1)"
   ]
  },
  {
   "cell_type": "code",
   "execution_count": 20,
   "metadata": {},
   "outputs": [
    {
     "data": {
      "text/plain": [
       "tensor([ True,  True,  True,  True, False,  True,  True,  True,  True,  True,\n",
       "         True,  True,  True,  True,  True,  True,  True, False,  True,  True,\n",
       "         True,  True,  True,  True,  True,  True,  True,  True,  True,  True,\n",
       "         True,  True])"
      ]
     },
     "execution_count": 20,
     "metadata": {},
     "output_type": "execute_result"
    }
   ],
   "source": [
    "predictions[0].softmax(0).argmax(dim=1) == predictions[0].softmax(dim=1).argmax(dim=1)"
   ]
  },
  {
   "cell_type": "code",
   "execution_count": 22,
   "metadata": {},
   "outputs": [
    {
     "data": {
      "text/plain": [
       "tensor([ 61,  94,  40,  88,  70, 105,   6,  94,  59, 107, 109,  98,  78,  81,\n",
       "          9,  69,  29,  68,  57,  93,  96, 101,  74,  67,  56,  54,  14,  51,\n",
       "         40,   3,  46,  18])"
      ]
     },
     "execution_count": 22,
     "metadata": {},
     "output_type": "execute_result"
    }
   ],
   "source": [
    "predictions[0].softmax(0).argmax(dim=1)"
   ]
  },
  {
   "cell_type": "code",
   "execution_count": 24,
   "metadata": {},
   "outputs": [
    {
     "name": "stderr",
     "output_type": "stream",
     "text": [
      "/tmp/ipykernel_3728/211225831.py:1: UserWarning: Implicit dimension choice for softmax has been deprecated. Change the call to include dim=X as an argument.\n",
      "  torch.nn.functional.softmax(predictions[0]).argmax(dim=1) == torch.nn.functional.softmax(predictions[0], dim=1).argmax(dim=1)\n"
     ]
    },
    {
     "data": {
      "text/plain": [
       "tensor([True, True, True, True, True, True, True, True, True, True, True, True,\n",
       "        True, True, True, True, True, True, True, True, True, True, True, True,\n",
       "        True, True, True, True, True, True, True, True])"
      ]
     },
     "execution_count": 24,
     "metadata": {},
     "output_type": "execute_result"
    }
   ],
   "source": [
    "torch.nn.functional.softmax(predictions[0]).argmax(dim=1) == torch.nn.functional.softmax(predictions[0], dim=1).argmax(dim=1)"
   ]
  },
  {
   "cell_type": "code",
   "execution_count": 1,
   "metadata": {},
   "outputs": [
    {
     "name": "stderr",
     "output_type": "stream",
     "text": [
      "GPU available: True (cuda), used: True\n",
      "TPU available: False, using: 0 TPU cores\n",
      "IPU available: False, using: 0 IPUs\n",
      "HPU available: False, using: 0 HPUs\n",
      "LOCAL_RANK: 0 - CUDA_VISIBLE_DEVICES: [0]\n"
     ]
    },
    {
     "data": {
      "application/vnd.jupyter.widget-view+json": {
       "model_id": "e11b9f5e9a7f4fb2a0d77b40f4e14d35",
       "version_major": 2,
       "version_minor": 0
      },
      "text/plain": [
       "Predicting: |          | 0/? [00:00<?, ?it/s]"
      ]
     },
     "metadata": {},
     "output_type": "display_data"
    }
   ],
   "source": [
    "from train import *\n",
    "\n",
    "model = ResNet('resnet152', pretrained=True)\n",
    "model.load_state_dict(torch.load('./lightning_logs/ResNet152_mix_freeze_all/checkpoints/resnet152-epoch=03-val_acc=0.9403.ckpt')['state_dict'])\n",
    "data = DogData(five_crop=False, batch_size=128)\n",
    "predictions = trainer.predict(model, datamodule=data)"
   ]
  },
  {
   "cell_type": "code",
   "execution_count": 3,
   "metadata": {},
   "outputs": [],
   "source": [
    "from datetime import datetime\n",
    "import pandas as pd\n",
    "\n",
    "now = datetime.now().strftime(\"%Y%m%d_%H%M%S\")\n",
    "\n",
    "df = pd.read_csv(data.predict_csv)\n",
    "imgs = df[\"id\"]\n",
    "columns = df.columns.tolist()\n",
    "columns.pop(0)\n",
    "\n",
    "preds = [row.tolist() for item in predictions for row in item.softmax(dim=1)]\n",
    "submission = pd.concat([imgs, pd.DataFrame(preds, columns=columns)], axis=1)\n",
    "submission.to_csv(f\"submission_{now}.csv\", index=False)"
   ]
  },
  {
   "cell_type": "code",
   "execution_count": null,
   "metadata": {},
   "outputs": [],
   "source": []
  }
 ],
 "metadata": {
  "kernelspec": {
   "display_name": ".venv",
   "language": "python",
   "name": "python3"
  },
  "language_info": {
   "codemirror_mode": {
    "name": "ipython",
    "version": 3
   },
   "file_extension": ".py",
   "mimetype": "text/x-python",
   "name": "python",
   "nbconvert_exporter": "python",
   "pygments_lexer": "ipython3",
   "version": "3.11.7"
  }
 },
 "nbformat": 4,
 "nbformat_minor": 2
}
