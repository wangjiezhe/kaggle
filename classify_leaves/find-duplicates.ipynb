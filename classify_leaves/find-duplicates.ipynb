{
 "cells": [
  {
   "cell_type": "code",
   "execution_count": 1,
   "metadata": {},
   "outputs": [],
   "source": [
    "import hashlib\n",
    "import os\n",
    "from collections import defaultdict"
   ]
  },
  {
   "cell_type": "code",
   "execution_count": 2,
   "metadata": {},
   "outputs": [],
   "source": [
    "def calculate_md5(file_path):\n",
    "    md5 = hashlib.md5()\n",
    "    with open(file_path, \"rb\") as file:\n",
    "        for chunk in iter(lambda: file.read(4096), b\"\"):\n",
    "            md5.update(chunk)\n",
    "    return md5.hexdigest()"
   ]
  },
  {
   "cell_type": "code",
   "execution_count": 3,
   "metadata": {},
   "outputs": [],
   "source": [
    "def calculate_file_hashes(directory):\n",
    "    file_hashes = defaultdict(list)\n",
    "\n",
    "    for root, _, files in os.walk(directory):\n",
    "        for filename in files:\n",
    "            if filename.lower().endswith((\".png\", \".jpg\", \".jpeg\", \".gif\")):\n",
    "                file_path = os.path.join(root, filename)\n",
    "                hash_value = calculate_md5(file_path)\n",
    "                file_hashes[hash_value].append(file_path)\n",
    "\n",
    "    return file_hashes"
   ]
  },
  {
   "cell_type": "code",
   "execution_count": 4,
   "metadata": {},
   "outputs": [],
   "source": [
    "def find_duplicate_images(directory):\n",
    "    image_hashes = calculate_file_hashes(directory)\n",
    "    duplicate_images = []\n",
    "\n",
    "    for _, file_paths in image_hashes.items():\n",
    "        if len(file_paths) > 1:\n",
    "            duplicate_images.append(file_paths)\n",
    "\n",
    "    return duplicate_images"
   ]
  },
  {
   "cell_type": "code",
   "execution_count": 5,
   "metadata": {},
   "outputs": [],
   "source": [
    "parent_directory = \"./data/images_cleaned_train\""
   ]
  },
  {
   "cell_type": "code",
   "execution_count": 6,
   "metadata": {},
   "outputs": [],
   "source": [
    "duplicate_images = find_duplicate_images(parent_directory)"
   ]
  },
  {
   "cell_type": "code",
   "execution_count": 9,
   "metadata": {},
   "outputs": [],
   "source": [
    "for lst in duplicate_images:\n",
    "    if l:=len(lst) != 2:\n",
    "        print(l)"
   ]
  },
  {
   "cell_type": "code",
   "execution_count": 14,
   "metadata": {},
   "outputs": [
    {
     "name": "stdout",
     "output_type": "stream",
     "text": [
      "./data/images_cleaned_train/prunus_subhirtella/17194.jpg ./data/images_cleaned_train/prunus_virginiana/11710.jpg\n",
      "./data/images_cleaned_train/prunus_subhirtella/5979.jpg ./data/images_cleaned_train/prunus_virginiana/1690.jpg\n",
      "./data/images_cleaned_train/prunus_subhirtella/7410.jpg ./data/images_cleaned_train/prunus_virginiana/538.jpg\n",
      "./data/images_cleaned_train/prunus_subhirtella/9471.jpg ./data/images_cleaned_train/prunus_virginiana/12718.jpg\n",
      "./data/images_cleaned_train/prunus_subhirtella/10692.jpg ./data/images_cleaned_train/prunus_virginiana/4712.jpg\n",
      "./data/images_cleaned_train/prunus_subhirtella/2041.jpg ./data/images_cleaned_train/prunus_virginiana/1196.jpg\n",
      "./data/images_cleaned_train/prunus_subhirtella/8941.jpg ./data/images_cleaned_train/prunus_virginiana/3372.jpg\n",
      "./data/images_cleaned_train/prunus_subhirtella/735.jpg ./data/images_cleaned_train/prunus_virginiana/15958.jpg\n",
      "./data/images_cleaned_train/prunus_subhirtella/15241.jpg ./data/images_cleaned_train/prunus_virginiana/1553.jpg\n",
      "./data/images_cleaned_train/prunus_subhirtella/1754.jpg ./data/images_cleaned_train/prunus_virginiana/7451.jpg\n",
      "./data/images_cleaned_train/prunus_subhirtella/1093.jpg ./data/images_cleaned_train/prunus_virginiana/6024.jpg\n",
      "./data/images_cleaned_train/prunus_subhirtella/13716.jpg ./data/images_cleaned_train/prunus_virginiana/91.jpg\n",
      "./data/images_cleaned_train/prunus_subhirtella/15922.jpg ./data/images_cleaned_train/prunus_virginiana/571.jpg\n",
      "./data/images_cleaned_train/prunus_subhirtella/5511.jpg ./data/images_cleaned_train/prunus_virginiana/8782.jpg\n",
      "./data/images_cleaned_train/prunus_subhirtella/13646.jpg ./data/images_cleaned_train/prunus_virginiana/5816.jpg\n",
      "./data/images_cleaned_train/prunus_subhirtella/8740.jpg ./data/images_cleaned_train/prunus_virginiana/4200.jpg\n",
      "./data/images_cleaned_train/prunus_subhirtella/1566.jpg ./data/images_cleaned_train/prunus_virginiana/6487.jpg\n",
      "./data/images_cleaned_train/prunus_subhirtella/3967.jpg ./data/images_cleaned_train/prunus_virginiana/50.jpg\n",
      "./data/images_cleaned_train/prunus_subhirtella/1237.jpg ./data/images_cleaned_train/prunus_virginiana/368.jpg\n",
      "./data/images_cleaned_train/prunus_subhirtella/713.jpg ./data/images_cleaned_train/prunus_virginiana/3124.jpg\n",
      "./data/images_cleaned_train/prunus_subhirtella/7701.jpg ./data/images_cleaned_train/prunus_virginiana/14567.jpg\n",
      "./data/images_cleaned_train/magnolia_tripetala/7789.jpg ./data/images_cleaned_train/magnolia_stellata/10702.jpg\n",
      "./data/images_cleaned_train/magnolia_tripetala/13408.jpg ./data/images_cleaned_train/magnolia_stellata/6215.jpg\n",
      "./data/images_cleaned_train/magnolia_tripetala/2207.jpg ./data/images_cleaned_train/magnolia_stellata/4647.jpg\n",
      "./data/images_cleaned_train/magnolia_tripetala/3064.jpg ./data/images_cleaned_train/magnolia_stellata/14256.jpg\n",
      "./data/images_cleaned_train/magnolia_tripetala/9153.jpg ./data/images_cleaned_train/magnolia_stellata/1796.jpg\n",
      "./data/images_cleaned_train/magnolia_tripetala/17561.jpg ./data/images_cleaned_train/magnolia_stellata/12740.jpg\n",
      "./data/images_cleaned_train/magnolia_tripetala/6958.jpg ./data/images_cleaned_train/magnolia_stellata/12060.jpg\n",
      "./data/images_cleaned_train/magnolia_tripetala/9226.jpg ./data/images_cleaned_train/magnolia_stellata/16872.jpg\n",
      "./data/images_cleaned_train/magnolia_tripetala/12901.jpg ./data/images_cleaned_train/magnolia_stellata/1586.jpg\n",
      "./data/images_cleaned_train/magnolia_tripetala/10758.jpg ./data/images_cleaned_train/magnolia_stellata/17521.jpg\n",
      "./data/images_cleaned_train/magnolia_tripetala/9891.jpg ./data/images_cleaned_train/magnolia_stellata/11780.jpg\n"
     ]
    }
   ],
   "source": [
    "for lst in duplicate_images:\n",
    "    a, b = lst\n",
    "    if os.path.dirname(a) != os.path.dirname(b):\n",
    "        print(a, b)"
   ]
  },
  {
   "cell_type": "code",
   "execution_count": 15,
   "metadata": {},
   "outputs": [
    {
     "name": "stdout",
     "output_type": "stream",
     "text": [
      "./data/images_cleaned_train/maclura_pomifera/16247.jpg ./data/images_cleaned_train/maclura_pomifera/14210.jpg\n",
      "./data/images_cleaned_train/maclura_pomifera/178.jpg ./data/images_cleaned_train/maclura_pomifera/2841.jpg\n",
      "./data/images_cleaned_train/maclura_pomifera/7736.jpg ./data/images_cleaned_train/maclura_pomifera/6335.jpg\n",
      "./data/images_cleaned_train/maclura_pomifera/8483.jpg ./data/images_cleaned_train/maclura_pomifera/28.jpg\n",
      "./data/images_cleaned_train/maclura_pomifera/10534.jpg ./data/images_cleaned_train/maclura_pomifera/14101.jpg\n",
      "./data/images_cleaned_train/maclura_pomifera/8431.jpg ./data/images_cleaned_train/maclura_pomifera/11279.jpg\n",
      "./data/images_cleaned_train/maclura_pomifera/12264.jpg ./data/images_cleaned_train/maclura_pomifera/13467.jpg\n",
      "./data/images_cleaned_train/maclura_pomifera/5350.jpg ./data/images_cleaned_train/maclura_pomifera/11760.jpg\n",
      "./data/images_cleaned_train/maclura_pomifera/9705.jpg ./data/images_cleaned_train/maclura_pomifera/10.jpg\n",
      "./data/images_cleaned_train/maclura_pomifera/302.jpg ./data/images_cleaned_train/maclura_pomifera/11078.jpg\n",
      "./data/images_cleaned_train/maclura_pomifera/405.jpg ./data/images_cleaned_train/maclura_pomifera/1921.jpg\n",
      "./data/images_cleaned_train/maclura_pomifera/15622.jpg ./data/images_cleaned_train/maclura_pomifera/9118.jpg\n",
      "./data/images_cleaned_train/maclura_pomifera/1135.jpg ./data/images_cleaned_train/maclura_pomifera/972.jpg\n",
      "./data/images_cleaned_train/maclura_pomifera/3932.jpg ./data/images_cleaned_train/maclura_pomifera/810.jpg\n",
      "./data/images_cleaned_train/maclura_pomifera/3274.jpg ./data/images_cleaned_train/maclura_pomifera/1311.jpg\n",
      "./data/images_cleaned_train/maclura_pomifera/11800.jpg ./data/images_cleaned_train/maclura_pomifera/7407.jpg\n",
      "./data/images_cleaned_train/maclura_pomifera/14645.jpg ./data/images_cleaned_train/maclura_pomifera/6369.jpg\n",
      "./data/images_cleaned_train/maclura_pomifera/18094.jpg ./data/images_cleaned_train/maclura_pomifera/722.jpg\n",
      "./data/images_cleaned_train/maclura_pomifera/14968.jpg ./data/images_cleaned_train/maclura_pomifera/693.jpg\n",
      "./data/images_cleaned_train/maclura_pomifera/2710.jpg ./data/images_cleaned_train/maclura_pomifera/13054.jpg\n",
      "./data/images_cleaned_train/maclura_pomifera/825.jpg ./data/images_cleaned_train/maclura_pomifera/15934.jpg\n",
      "./data/images_cleaned_train/maclura_pomifera/9037.jpg ./data/images_cleaned_train/maclura_pomifera/16884.jpg\n",
      "./data/images_cleaned_train/maclura_pomifera/407.jpg ./data/images_cleaned_train/maclura_pomifera/13380.jpg\n",
      "./data/images_cleaned_train/maclura_pomifera/4746.jpg ./data/images_cleaned_train/maclura_pomifera/41.jpg\n",
      "./data/images_cleaned_train/maclura_pomifera/1363.jpg ./data/images_cleaned_train/maclura_pomifera/355.jpg\n",
      "./data/images_cleaned_train/maclura_pomifera/16.jpg ./data/images_cleaned_train/maclura_pomifera/11472.jpg\n",
      "./data/images_cleaned_train/maclura_pomifera/11568.jpg ./data/images_cleaned_train/maclura_pomifera/4335.jpg\n",
      "./data/images_cleaned_train/maclura_pomifera/1274.jpg ./data/images_cleaned_train/maclura_pomifera/2177.jpg\n",
      "./data/images_cleaned_train/maclura_pomifera/592.jpg ./data/images_cleaned_train/maclura_pomifera/10407.jpg\n",
      "./data/images_cleaned_train/maclura_pomifera/15908.jpg ./data/images_cleaned_train/maclura_pomifera/13368.jpg\n",
      "./data/images_cleaned_train/maclura_pomifera/5793.jpg ./data/images_cleaned_train/maclura_pomifera/17542.jpg\n",
      "./data/images_cleaned_train/maclura_pomifera/524.jpg ./data/images_cleaned_train/maclura_pomifera/9070.jpg\n",
      "./data/images_cleaned_train/maclura_pomifera/18277.jpg ./data/images_cleaned_train/maclura_pomifera/11071.jpg\n",
      "./data/images_cleaned_train/maclura_pomifera/16022.jpg ./data/images_cleaned_train/maclura_pomifera/7379.jpg\n",
      "./data/images_cleaned_train/maclura_pomifera/13837.jpg ./data/images_cleaned_train/maclura_pomifera/2079.jpg\n",
      "./data/images_cleaned_train/maclura_pomifera/224.jpg ./data/images_cleaned_train/maclura_pomifera/2643.jpg\n",
      "./data/images_cleaned_train/maclura_pomifera/14624.jpg ./data/images_cleaned_train/maclura_pomifera/448.jpg\n",
      "./data/images_cleaned_train/maclura_pomifera/10257.jpg ./data/images_cleaned_train/maclura_pomifera/1731.jpg\n",
      "./data/images_cleaned_train/maclura_pomifera/14904.jpg ./data/images_cleaned_train/maclura_pomifera/1147.jpg\n",
      "./data/images_cleaned_train/maclura_pomifera/6458.jpg ./data/images_cleaned_train/maclura_pomifera/7314.jpg\n",
      "./data/images_cleaned_train/maclura_pomifera/3192.jpg ./data/images_cleaned_train/maclura_pomifera/17762.jpg\n",
      "./data/images_cleaned_train/maclura_pomifera/7238.jpg ./data/images_cleaned_train/maclura_pomifera/345.jpg\n",
      "./data/images_cleaned_train/maclura_pomifera/5776.jpg ./data/images_cleaned_train/maclura_pomifera/9608.jpg\n",
      "./data/images_cleaned_train/maclura_pomifera/17772.jpg ./data/images_cleaned_train/maclura_pomifera/12791.jpg\n",
      "./data/images_cleaned_train/maclura_pomifera/12816.jpg ./data/images_cleaned_train/maclura_pomifera/3663.jpg\n",
      "./data/images_cleaned_train/maclura_pomifera/16412.jpg ./data/images_cleaned_train/maclura_pomifera/2317.jpg\n",
      "./data/images_cleaned_train/maclura_pomifera/386.jpg ./data/images_cleaned_train/maclura_pomifera/12617.jpg\n",
      "./data/images_cleaned_train/maclura_pomifera/6187.jpg ./data/images_cleaned_train/maclura_pomifera/6586.jpg\n",
      "./data/images_cleaned_train/maclura_pomifera/18161.jpg ./data/images_cleaned_train/maclura_pomifera/1636.jpg\n",
      "./data/images_cleaned_train/maclura_pomifera/164.jpg ./data/images_cleaned_train/maclura_pomifera/15977.jpg\n",
      "./data/images_cleaned_train/maclura_pomifera/14512.jpg ./data/images_cleaned_train/maclura_pomifera/10623.jpg\n",
      "./data/images_cleaned_train/maclura_pomifera/1404.jpg ./data/images_cleaned_train/maclura_pomifera/9775.jpg\n",
      "./data/images_cleaned_train/maclura_pomifera/9941.jpg ./data/images_cleaned_train/maclura_pomifera/5423.jpg\n",
      "./data/images_cleaned_train/maclura_pomifera/12729.jpg ./data/images_cleaned_train/maclura_pomifera/57.jpg\n",
      "./data/images_cleaned_train/maclura_pomifera/1451.jpg ./data/images_cleaned_train/maclura_pomifera/306.jpg\n",
      "./data/images_cleaned_train/maclura_pomifera/16995.jpg ./data/images_cleaned_train/maclura_pomifera/56.jpg\n",
      "./data/images_cleaned_train/maclura_pomifera/9175.jpg ./data/images_cleaned_train/maclura_pomifera/569.jpg\n",
      "./data/images_cleaned_train/maclura_pomifera/9668.jpg ./data/images_cleaned_train/maclura_pomifera/15752.jpg\n",
      "./data/images_cleaned_train/maclura_pomifera/11478.jpg ./data/images_cleaned_train/maclura_pomifera/14374.jpg\n",
      "./data/images_cleaned_train/maclura_pomifera/1094.jpg ./data/images_cleaned_train/maclura_pomifera/17129.jpg\n",
      "./data/images_cleaned_train/maclura_pomifera/460.jpg ./data/images_cleaned_train/maclura_pomifera/3018.jpg\n",
      "./data/images_cleaned_train/maclura_pomifera/10569.jpg ./data/images_cleaned_train/maclura_pomifera/179.jpg\n",
      "./data/images_cleaned_train/maclura_pomifera/65.jpg ./data/images_cleaned_train/maclura_pomifera/12413.jpg\n",
      "./data/images_cleaned_train/maclura_pomifera/18285.jpg ./data/images_cleaned_train/maclura_pomifera/87.jpg\n",
      "./data/images_cleaned_train/maclura_pomifera/5.jpg ./data/images_cleaned_train/maclura_pomifera/13883.jpg\n",
      "./data/images_cleaned_train/maclura_pomifera/16560.jpg ./data/images_cleaned_train/maclura_pomifera/11878.jpg\n",
      "./data/images_cleaned_train/maclura_pomifera/5924.jpg ./data/images_cleaned_train/maclura_pomifera/17351.jpg\n",
      "./data/images_cleaned_train/maclura_pomifera/106.jpg ./data/images_cleaned_train/maclura_pomifera/4.jpg\n",
      "./data/images_cleaned_train/maclura_pomifera/17217.jpg ./data/images_cleaned_train/maclura_pomifera/12359.jpg\n",
      "./data/images_cleaned_train/maclura_pomifera/15519.jpg ./data/images_cleaned_train/maclura_pomifera/1146.jpg\n",
      "./data/images_cleaned_train/maclura_pomifera/13767.jpg ./data/images_cleaned_train/maclura_pomifera/10837.jpg\n",
      "./data/images_cleaned_train/maclura_pomifera/12384.jpg ./data/images_cleaned_train/maclura_pomifera/5457.jpg\n",
      "./data/images_cleaned_train/maclura_pomifera/3309.jpg ./data/images_cleaned_train/maclura_pomifera/18171.jpg\n",
      "./data/images_cleaned_train/maclura_pomifera/1492.jpg ./data/images_cleaned_train/maclura_pomifera/12210.jpg\n",
      "./data/images_cleaned_train/maclura_pomifera/38.jpg ./data/images_cleaned_train/maclura_pomifera/1231.jpg\n",
      "./data/images_cleaned_train/maclura_pomifera/1469.jpg ./data/images_cleaned_train/maclura_pomifera/15393.jpg\n",
      "./data/images_cleaned_train/maclura_pomifera/520.jpg ./data/images_cleaned_train/maclura_pomifera/2160.jpg\n",
      "./data/images_cleaned_train/maclura_pomifera/8898.jpg ./data/images_cleaned_train/maclura_pomifera/4210.jpg\n",
      "./data/images_cleaned_train/maclura_pomifera/14756.jpg ./data/images_cleaned_train/maclura_pomifera/15391.jpg\n",
      "./data/images_cleaned_train/maclura_pomifera/6454.jpg ./data/images_cleaned_train/maclura_pomifera/14018.jpg\n",
      "./data/images_cleaned_train/maclura_pomifera/13704.jpg ./data/images_cleaned_train/maclura_pomifera/3033.jpg\n",
      "./data/images_cleaned_train/maclura_pomifera/1122.jpg ./data/images_cleaned_train/maclura_pomifera/3.jpg\n",
      "./data/images_cleaned_train/maclura_pomifera/15513.jpg ./data/images_cleaned_train/maclura_pomifera/136.jpg\n",
      "./data/images_cleaned_train/maclura_pomifera/14265.jpg ./data/images_cleaned_train/maclura_pomifera/12381.jpg\n",
      "./data/images_cleaned_train/maclura_pomifera/131.jpg ./data/images_cleaned_train/maclura_pomifera/6201.jpg\n",
      "./data/images_cleaned_train/maclura_pomifera/20.jpg ./data/images_cleaned_train/maclura_pomifera/10932.jpg\n",
      "./data/images_cleaned_train/maclura_pomifera/4797.jpg ./data/images_cleaned_train/maclura_pomifera/12398.jpg\n",
      "./data/images_cleaned_train/maclura_pomifera/16360.jpg ./data/images_cleaned_train/maclura_pomifera/7230.jpg\n",
      "./data/images_cleaned_train/maclura_pomifera/6510.jpg ./data/images_cleaned_train/maclura_pomifera/11857.jpg\n",
      "./data/images_cleaned_train/maclura_pomifera/789.jpg ./data/images_cleaned_train/maclura_pomifera/16601.jpg\n",
      "./data/images_cleaned_train/maclura_pomifera/9675.jpg ./data/images_cleaned_train/maclura_pomifera/100.jpg\n",
      "./data/images_cleaned_train/maclura_pomifera/15182.jpg ./data/images_cleaned_train/maclura_pomifera/9188.jpg\n",
      "./data/images_cleaned_train/maclura_pomifera/1139.jpg ./data/images_cleaned_train/maclura_pomifera/11600.jpg\n",
      "./data/images_cleaned_train/maclura_pomifera/10489.jpg ./data/images_cleaned_train/maclura_pomifera/13522.jpg\n",
      "./data/images_cleaned_train/maclura_pomifera/8524.jpg ./data/images_cleaned_train/maclura_pomifera/12551.jpg\n",
      "./data/images_cleaned_train/maclura_pomifera/15292.jpg ./data/images_cleaned_train/maclura_pomifera/10568.jpg\n",
      "./data/images_cleaned_train/maclura_pomifera/4770.jpg ./data/images_cleaned_train/maclura_pomifera/7925.jpg\n",
      "./data/images_cleaned_train/maclura_pomifera/5745.jpg ./data/images_cleaned_train/maclura_pomifera/21.jpg\n",
      "./data/images_cleaned_train/maclura_pomifera/8107.jpg ./data/images_cleaned_train/maclura_pomifera/11320.jpg\n",
      "./data/images_cleaned_train/maclura_pomifera/3942.jpg ./data/images_cleaned_train/maclura_pomifera/690.jpg\n",
      "./data/images_cleaned_train/maclura_pomifera/648.jpg ./data/images_cleaned_train/maclura_pomifera/9642.jpg\n",
      "./data/images_cleaned_train/maclura_pomifera/13546.jpg ./data/images_cleaned_train/maclura_pomifera/14948.jpg\n",
      "./data/images_cleaned_train/maclura_pomifera/11915.jpg ./data/images_cleaned_train/maclura_pomifera/1924.jpg\n",
      "./data/images_cleaned_train/maclura_pomifera/12697.jpg ./data/images_cleaned_train/maclura_pomifera/18.jpg\n",
      "./data/images_cleaned_train/maclura_pomifera/1399.jpg ./data/images_cleaned_train/maclura_pomifera/8273.jpg\n",
      "./data/images_cleaned_train/maclura_pomifera/13377.jpg ./data/images_cleaned_train/maclura_pomifera/8066.jpg\n",
      "./data/images_cleaned_train/maclura_pomifera/14607.jpg ./data/images_cleaned_train/maclura_pomifera/17673.jpg\n",
      "./data/images_cleaned_train/maclura_pomifera/8045.jpg ./data/images_cleaned_train/maclura_pomifera/16314.jpg\n",
      "./data/images_cleaned_train/maclura_pomifera/12186.jpg ./data/images_cleaned_train/maclura_pomifera/613.jpg\n",
      "./data/images_cleaned_train/maclura_pomifera/67.jpg ./data/images_cleaned_train/maclura_pomifera/9677.jpg\n",
      "./data/images_cleaned_train/maclura_pomifera/1056.jpg ./data/images_cleaned_train/maclura_pomifera/2247.jpg\n",
      "./data/images_cleaned_train/maclura_pomifera/5261.jpg ./data/images_cleaned_train/maclura_pomifera/36.jpg\n",
      "./data/images_cleaned_train/maclura_pomifera/2696.jpg ./data/images_cleaned_train/maclura_pomifera/1233.jpg\n",
      "./data/images_cleaned_train/maclura_pomifera/3183.jpg ./data/images_cleaned_train/maclura_pomifera/13590.jpg\n",
      "./data/images_cleaned_train/maclura_pomifera/10898.jpg ./data/images_cleaned_train/maclura_pomifera/16915.jpg\n",
      "./data/images_cleaned_train/maclura_pomifera/7711.jpg ./data/images_cleaned_train/maclura_pomifera/9081.jpg\n",
      "./data/images_cleaned_train/maclura_pomifera/4263.jpg ./data/images_cleaned_train/maclura_pomifera/9659.jpg\n",
      "./data/images_cleaned_train/maclura_pomifera/8299.jpg ./data/images_cleaned_train/maclura_pomifera/12474.jpg\n",
      "./data/images_cleaned_train/maclura_pomifera/16433.jpg ./data/images_cleaned_train/maclura_pomifera/1467.jpg\n",
      "./data/images_cleaned_train/maclura_pomifera/7759.jpg ./data/images_cleaned_train/maclura_pomifera/14442.jpg\n",
      "./data/images_cleaned_train/maclura_pomifera/9035.jpg ./data/images_cleaned_train/maclura_pomifera/11059.jpg\n",
      "./data/images_cleaned_train/maclura_pomifera/18287.jpg ./data/images_cleaned_train/maclura_pomifera/6692.jpg\n",
      "./data/images_cleaned_train/maclura_pomifera/2174.jpg ./data/images_cleaned_train/maclura_pomifera/17971.jpg\n",
      "./data/images_cleaned_train/maclura_pomifera/129.jpg ./data/images_cleaned_train/maclura_pomifera/14091.jpg\n",
      "./data/images_cleaned_train/maclura_pomifera/15455.jpg ./data/images_cleaned_train/maclura_pomifera/4102.jpg\n",
      "./data/images_cleaned_train/maclura_pomifera/1140.jpg ./data/images_cleaned_train/maclura_pomifera/5544.jpg\n",
      "./data/images_cleaned_train/maclura_pomifera/5845.jpg ./data/images_cleaned_train/maclura_pomifera/12204.jpg\n",
      "./data/images_cleaned_train/maclura_pomifera/629.jpg ./data/images_cleaned_train/maclura_pomifera/35.jpg\n",
      "./data/images_cleaned_train/maclura_pomifera/6442.jpg ./data/images_cleaned_train/maclura_pomifera/892.jpg\n",
      "./data/images_cleaned_train/maclura_pomifera/10614.jpg ./data/images_cleaned_train/maclura_pomifera/3269.jpg\n",
      "./data/images_cleaned_train/maclura_pomifera/952.jpg ./data/images_cleaned_train/maclura_pomifera/11739.jpg\n",
      "./data/images_cleaned_train/maclura_pomifera/7956.jpg ./data/images_cleaned_train/maclura_pomifera/13443.jpg\n",
      "./data/images_cleaned_train/maclura_pomifera/15186.jpg ./data/images_cleaned_train/maclura_pomifera/1576.jpg\n",
      "./data/images_cleaned_train/maclura_pomifera/802.jpg ./data/images_cleaned_train/maclura_pomifera/16909.jpg\n",
      "./data/images_cleaned_train/cryptomeria_japonica/329.jpg ./data/images_cleaned_train/cryptomeria_japonica/133.jpg\n",
      "./data/images_cleaned_train/cryptomeria_japonica/44.jpg ./data/images_cleaned_train/cryptomeria_japonica/1028.jpg\n",
      "./data/images_cleaned_train/cryptomeria_japonica/12622.jpg ./data/images_cleaned_train/cryptomeria_japonica/435.jpg\n",
      "./data/images_cleaned_train/cryptomeria_japonica/12333.jpg ./data/images_cleaned_train/cryptomeria_japonica/6428.jpg\n",
      "./data/images_cleaned_train/cryptomeria_japonica/13586.jpg ./data/images_cleaned_train/cryptomeria_japonica/71.jpg\n",
      "./data/images_cleaned_train/cryptomeria_japonica/1328.jpg ./data/images_cleaned_train/cryptomeria_japonica/579.jpg\n",
      "./data/images_cleaned_train/cryptomeria_japonica/8022.jpg ./data/images_cleaned_train/cryptomeria_japonica/17219.jpg\n",
      "./data/images_cleaned_train/cryptomeria_japonica/16775.jpg ./data/images_cleaned_train/cryptomeria_japonica/9660.jpg\n",
      "./data/images_cleaned_train/cryptomeria_japonica/13827.jpg ./data/images_cleaned_train/cryptomeria_japonica/15736.jpg\n",
      "./data/images_cleaned_train/cryptomeria_japonica/11789.jpg ./data/images_cleaned_train/cryptomeria_japonica/17216.jpg\n",
      "./data/images_cleaned_train/cryptomeria_japonica/12080.jpg ./data/images_cleaned_train/cryptomeria_japonica/307.jpg\n",
      "./data/images_cleaned_train/cryptomeria_japonica/4192.jpg ./data/images_cleaned_train/cryptomeria_japonica/10246.jpg\n",
      "./data/images_cleaned_train/cryptomeria_japonica/2452.jpg ./data/images_cleaned_train/cryptomeria_japonica/696.jpg\n",
      "./data/images_cleaned_train/cryptomeria_japonica/13226.jpg ./data/images_cleaned_train/cryptomeria_japonica/10168.jpg\n",
      "./data/images_cleaned_train/cryptomeria_japonica/9782.jpg ./data/images_cleaned_train/cryptomeria_japonica/1175.jpg\n",
      "./data/images_cleaned_train/cryptomeria_japonica/1822.jpg ./data/images_cleaned_train/cryptomeria_japonica/8746.jpg\n",
      "./data/images_cleaned_train/cryptomeria_japonica/610.jpg ./data/images_cleaned_train/cryptomeria_japonica/34.jpg\n",
      "./data/images_cleaned_train/cryptomeria_japonica/17773.jpg ./data/images_cleaned_train/cryptomeria_japonica/2788.jpg\n",
      "./data/images_cleaned_train/cryptomeria_japonica/9554.jpg ./data/images_cleaned_train/cryptomeria_japonica/8566.jpg\n",
      "./data/images_cleaned_train/cryptomeria_japonica/481.jpg ./data/images_cleaned_train/cryptomeria_japonica/3303.jpg\n",
      "./data/images_cleaned_train/cryptomeria_japonica/11386.jpg ./data/images_cleaned_train/cryptomeria_japonica/15993.jpg\n",
      "./data/images_cleaned_train/cryptomeria_japonica/5392.jpg ./data/images_cleaned_train/cryptomeria_japonica/86.jpg\n",
      "./data/images_cleaned_train/cryptomeria_japonica/12683.jpg ./data/images_cleaned_train/cryptomeria_japonica/3644.jpg\n",
      "./data/images_cleaned_train/cryptomeria_japonica/13734.jpg ./data/images_cleaned_train/cryptomeria_japonica/11987.jpg\n",
      "./data/images_cleaned_train/cryptomeria_japonica/123.jpg ./data/images_cleaned_train/cryptomeria_japonica/18192.jpg\n",
      "./data/images_cleaned_train/cryptomeria_japonica/11550.jpg ./data/images_cleaned_train/cryptomeria_japonica/14909.jpg\n",
      "./data/images_cleaned_train/ulmus_pumila/15475.jpg ./data/images_cleaned_train/ulmus_pumila/17573.jpg\n",
      "./data/images_cleaned_train/ulmus_pumila/12085.jpg ./data/images_cleaned_train/ulmus_pumila/3090.jpg\n",
      "./data/images_cleaned_train/ulmus_pumila/6703.jpg ./data/images_cleaned_train/ulmus_pumila/16029.jpg\n",
      "./data/images_cleaned_train/ulmus_pumila/3622.jpg ./data/images_cleaned_train/ulmus_pumila/7783.jpg\n",
      "./data/images_cleaned_train/ulmus_pumila/18100.jpg ./data/images_cleaned_train/ulmus_pumila/7841.jpg\n",
      "./data/images_cleaned_train/ulmus_pumila/5429.jpg ./data/images_cleaned_train/ulmus_pumila/6968.jpg\n",
      "./data/images_cleaned_train/ulmus_pumila/14112.jpg ./data/images_cleaned_train/ulmus_pumila/3104.jpg\n",
      "./data/images_cleaned_train/ulmus_pumila/15197.jpg ./data/images_cleaned_train/ulmus_pumila/17904.jpg\n",
      "./data/images_cleaned_train/ulmus_pumila/7707.jpg ./data/images_cleaned_train/ulmus_pumila/12530.jpg\n",
      "./data/images_cleaned_train/ulmus_pumila/8189.jpg ./data/images_cleaned_train/ulmus_pumila/3083.jpg\n",
      "./data/images_cleaned_train/ulmus_pumila/16818.jpg ./data/images_cleaned_train/ulmus_pumila/1248.jpg\n",
      "./data/images_cleaned_train/ulmus_pumila/11424.jpg ./data/images_cleaned_train/ulmus_pumila/13940.jpg\n",
      "./data/images_cleaned_train/ulmus_pumila/9590.jpg ./data/images_cleaned_train/ulmus_pumila/14522.jpg\n",
      "./data/images_cleaned_train/ulmus_pumila/2152.jpg ./data/images_cleaned_train/ulmus_pumila/11403.jpg\n",
      "./data/images_cleaned_train/ulmus_pumila/17710.jpg ./data/images_cleaned_train/ulmus_pumila/12861.jpg\n",
      "./data/images_cleaned_train/ulmus_pumila/17241.jpg ./data/images_cleaned_train/ulmus_pumila/843.jpg\n",
      "./data/images_cleaned_train/ulmus_pumila/11392.jpg ./data/images_cleaned_train/ulmus_pumila/600.jpg\n",
      "./data/images_cleaned_train/ulmus_pumila/233.jpg ./data/images_cleaned_train/ulmus_pumila/338.jpg\n",
      "./data/images_cleaned_train/ulmus_pumila/3724.jpg ./data/images_cleaned_train/ulmus_pumila/458.jpg\n",
      "./data/images_cleaned_train/ulmus_pumila/7140.jpg ./data/images_cleaned_train/ulmus_pumila/5027.jpg\n",
      "./data/images_cleaned_train/ulmus_pumila/6625.jpg ./data/images_cleaned_train/ulmus_pumila/9136.jpg\n",
      "./data/images_cleaned_train/ulmus_pumila/897.jpg ./data/images_cleaned_train/ulmus_pumila/6328.jpg\n",
      "./data/images_cleaned_train/ulmus_pumila/3171.jpg ./data/images_cleaned_train/ulmus_pumila/10215.jpg\n",
      "./data/images_cleaned_train/ulmus_pumila/16746.jpg ./data/images_cleaned_train/ulmus_pumila/11406.jpg\n",
      "./data/images_cleaned_train/ulmus_pumila/1983.jpg ./data/images_cleaned_train/ulmus_pumila/450.jpg\n",
      "./data/images_cleaned_train/ulmus_pumila/14806.jpg ./data/images_cleaned_train/ulmus_pumila/10627.jpg\n",
      "./data/images_cleaned_train/ulmus_pumila/15728.jpg ./data/images_cleaned_train/ulmus_pumila/5947.jpg\n",
      "./data/images_cleaned_train/ulmus_pumila/9278.jpg ./data/images_cleaned_train/ulmus_pumila/605.jpg\n",
      "./data/images_cleaned_train/ulmus_pumila/5969.jpg ./data/images_cleaned_train/ulmus_pumila/12314.jpg\n",
      "./data/images_cleaned_train/ulmus_pumila/10227.jpg ./data/images_cleaned_train/ulmus_pumila/9689.jpg\n",
      "./data/images_cleaned_train/ulmus_pumila/198.jpg ./data/images_cleaned_train/ulmus_pumila/18176.jpg\n",
      "./data/images_cleaned_train/ulmus_pumila/15882.jpg ./data/images_cleaned_train/ulmus_pumila/7400.jpg\n",
      "./data/images_cleaned_train/ulmus_pumila/7912.jpg ./data/images_cleaned_train/ulmus_pumila/4041.jpg\n",
      "./data/images_cleaned_train/ulmus_pumila/3730.jpg ./data/images_cleaned_train/ulmus_pumila/16708.jpg\n",
      "./data/images_cleaned_train/ulmus_pumila/3525.jpg ./data/images_cleaned_train/ulmus_pumila/9536.jpg\n",
      "./data/images_cleaned_train/gymnocladus_dioicus/18018.jpg ./data/images_cleaned_train/gymnocladus_dioicus/13366.jpg\n",
      "./data/images_cleaned_train/gymnocladus_dioicus/17535.jpg ./data/images_cleaned_train/gymnocladus_dioicus/14215.jpg\n",
      "./data/images_cleaned_train/gymnocladus_dioicus/9552.jpg ./data/images_cleaned_train/gymnocladus_dioicus/3597.jpg\n",
      "./data/images_cleaned_train/gymnocladus_dioicus/12582.jpg ./data/images_cleaned_train/gymnocladus_dioicus/8794.jpg\n",
      "./data/images_cleaned_train/gymnocladus_dioicus/2113.jpg ./data/images_cleaned_train/gymnocladus_dioicus/6717.jpg\n",
      "./data/images_cleaned_train/gymnocladus_dioicus/4871.jpg ./data/images_cleaned_train/gymnocladus_dioicus/13359.jpg\n",
      "./data/images_cleaned_train/quercus_montana/6043.jpg ./data/images_cleaned_train/quercus_montana/17892.jpg\n",
      "./data/images_cleaned_train/quercus_montana/666.jpg ./data/images_cleaned_train/quercus_montana/4521.jpg\n",
      "./data/images_cleaned_train/quercus_montana/3454.jpg ./data/images_cleaned_train/quercus_montana/4597.jpg\n",
      "./data/images_cleaned_train/quercus_montana/16095.jpg ./data/images_cleaned_train/quercus_montana/17458.jpg\n",
      "./data/images_cleaned_train/quercus_montana/4928.jpg ./data/images_cleaned_train/quercus_montana/16621.jpg\n",
      "./data/images_cleaned_train/quercus_muehlenbergii/17934.jpg ./data/images_cleaned_train/quercus_muehlenbergii/18113.jpg\n",
      "./data/images_cleaned_train/quercus_muehlenbergii/473.jpg ./data/images_cleaned_train/quercus_muehlenbergii/211.jpg\n",
      "./data/images_cleaned_train/quercus_muehlenbergii/3351.jpg ./data/images_cleaned_train/quercus_muehlenbergii/158.jpg\n",
      "./data/images_cleaned_train/quercus_muehlenbergii/18241.jpg ./data/images_cleaned_train/quercus_muehlenbergii/7713.jpg\n",
      "./data/images_cleaned_train/quercus_muehlenbergii/757.jpg ./data/images_cleaned_train/quercus_muehlenbergii/3951.jpg\n",
      "./data/images_cleaned_train/quercus_muehlenbergii/1159.jpg ./data/images_cleaned_train/quercus_muehlenbergii/6138.jpg\n",
      "./data/images_cleaned_train/quercus_muehlenbergii/4944.jpg ./data/images_cleaned_train/quercus_muehlenbergii/17388.jpg\n",
      "./data/images_cleaned_train/quercus_muehlenbergii/9613.jpg ./data/images_cleaned_train/quercus_muehlenbergii/908.jpg\n",
      "./data/images_cleaned_train/quercus_muehlenbergii/3850.jpg ./data/images_cleaned_train/quercus_muehlenbergii/5399.jpg\n",
      "./data/images_cleaned_train/quercus_muehlenbergii/217.jpg ./data/images_cleaned_train/quercus_muehlenbergii/4033.jpg\n",
      "./data/images_cleaned_train/quercus_muehlenbergii/951.jpg ./data/images_cleaned_train/quercus_muehlenbergii/1944.jpg\n",
      "./data/images_cleaned_train/quercus_muehlenbergii/7574.jpg ./data/images_cleaned_train/quercus_muehlenbergii/2328.jpg\n",
      "./data/images_cleaned_train/quercus_muehlenbergii/415.jpg ./data/images_cleaned_train/quercus_muehlenbergii/2064.jpg\n",
      "./data/images_cleaned_train/quercus_muehlenbergii/17261.jpg ./data/images_cleaned_train/quercus_muehlenbergii/18076.jpg\n",
      "./data/images_cleaned_train/quercus_muehlenbergii/8789.jpg ./data/images_cleaned_train/quercus_muehlenbergii/8659.jpg\n",
      "./data/images_cleaned_train/quercus_muehlenbergii/12224.jpg ./data/images_cleaned_train/quercus_muehlenbergii/13019.jpg\n",
      "./data/images_cleaned_train/quercus_muehlenbergii/17633.jpg ./data/images_cleaned_train/quercus_muehlenbergii/15700.jpg\n",
      "./data/images_cleaned_train/quercus_muehlenbergii/2261.jpg ./data/images_cleaned_train/quercus_muehlenbergii/12205.jpg\n",
      "./data/images_cleaned_train/quercus_marilandica/1080.jpg ./data/images_cleaned_train/quercus_marilandica/12465.jpg\n",
      "./data/images_cleaned_train/quercus_marilandica/10954.jpg ./data/images_cleaned_train/quercus_marilandica/16927.jpg\n",
      "./data/images_cleaned_train/quercus_marilandica/2392.jpg ./data/images_cleaned_train/quercus_marilandica/1364.jpg\n",
      "./data/images_cleaned_train/quercus_marilandica/15086.jpg ./data/images_cleaned_train/quercus_marilandica/11461.jpg\n",
      "./data/images_cleaned_train/quercus_marilandica/4642.jpg ./data/images_cleaned_train/quercus_marilandica/4784.jpg\n",
      "./data/images_cleaned_train/quercus_marilandica/10718.jpg ./data/images_cleaned_train/quercus_marilandica/11499.jpg\n"
     ]
    }
   ],
   "source": [
    "for lst in duplicate_images:\n",
    "    a, b = lst\n",
    "    if os.path.dirname(a) == os.path.dirname(b):\n",
    "        print(a, b)"
   ]
  },
  {
   "cell_type": "code",
   "execution_count": 16,
   "metadata": {},
   "outputs": [],
   "source": [
    "for lst in duplicate_images:\n",
    "    a, b = lst\n",
    "    if os.path.dirname(a) == os.path.dirname(b):\n",
    "        os.remove(b)"
   ]
  },
  {
   "cell_type": "code",
   "execution_count": 17,
   "metadata": {},
   "outputs": [],
   "source": [
    "duplicate_images2 = find_duplicate_images(parent_directory)"
   ]
  },
  {
   "cell_type": "code",
   "execution_count": 18,
   "metadata": {},
   "outputs": [],
   "source": [
    "for lst in duplicate_images2:\n",
    "    if l:=len(lst) != 2:\n",
    "        print(l)"
   ]
  },
  {
   "cell_type": "code",
   "execution_count": 19,
   "metadata": {},
   "outputs": [],
   "source": [
    "for lst in duplicate_images2:\n",
    "    a, b = lst\n",
    "    if os.path.dirname(a) == os.path.dirname(b):\n",
    "        print(a, b)"
   ]
  },
  {
   "cell_type": "code",
   "execution_count": 22,
   "metadata": {},
   "outputs": [
    {
     "data": {
      "text/plain": [
       "32"
      ]
     },
     "execution_count": 22,
     "metadata": {},
     "output_type": "execute_result"
    }
   ],
   "source": [
    "len(duplicate_images2)"
   ]
  },
  {
   "cell_type": "code",
   "execution_count": 28,
   "metadata": {},
   "outputs": [
    {
     "data": {
      "text/plain": [
       "{('./data/images_cleaned_train/magnolia_tripetala',\n",
       "  './data/images_cleaned_train/magnolia_stellata'),\n",
       " ('./data/images_cleaned_train/prunus_subhirtella',\n",
       "  './data/images_cleaned_train/prunus_virginiana')}"
      ]
     },
     "execution_count": 28,
     "metadata": {},
     "output_type": "execute_result"
    }
   ],
   "source": [
    "set([(os.path.dirname(a), os.path.dirname(b)) for a, b in duplicate_images2])"
   ]
  },
  {
   "cell_type": "code",
   "execution_count": 34,
   "metadata": {},
   "outputs": [],
   "source": [
    "magnolia = [lst for lst in duplicate_images2 if os.path.dirname(lst[0]) == './data/images_cleaned_train/magnolia_tripetala']"
   ]
  },
  {
   "cell_type": "code",
   "execution_count": 35,
   "metadata": {},
   "outputs": [],
   "source": [
    "prunus = [lst for lst in duplicate_images2 if os.path.dirname(lst[0]) == './data/images_cleaned_train/prunus_subhirtella']"
   ]
  },
  {
   "cell_type": "code",
   "execution_count": 36,
   "metadata": {},
   "outputs": [
    {
     "data": {
      "text/plain": [
       "(11, 21)"
      ]
     },
     "execution_count": 36,
     "metadata": {},
     "output_type": "execute_result"
    }
   ],
   "source": [
    "len(magnolia), len(prunus)"
   ]
  },
  {
   "cell_type": "code",
   "execution_count": 39,
   "metadata": {},
   "outputs": [
    {
     "data": {
      "text/plain": [
       "['./data/images_cleaned_train/magnolia_tripetala/7789.jpg',\n",
       " './data/images_cleaned_train/magnolia_stellata/10702.jpg']"
      ]
     },
     "execution_count": 39,
     "metadata": {},
     "output_type": "execute_result"
    }
   ],
   "source": [
    "magnolia[0]"
   ]
  },
  {
   "cell_type": "code",
   "execution_count": 41,
   "metadata": {},
   "outputs": [],
   "source": [
    "from subprocess import Popen"
   ]
  },
  {
   "cell_type": "code",
   "execution_count": 42,
   "metadata": {},
   "outputs": [],
   "source": [
    "honeyview = \"/mnt/c/Program Files/Honeyview/Honeyview.exe\""
   ]
  },
  {
   "cell_type": "code",
   "execution_count": 50,
   "metadata": {},
   "outputs": [
    {
     "data": {
      "text/plain": [
       "<Popen: returncode: None args: '\"/mnt/c/Program Files/Honeyview/Honeyview.ex...>"
      ]
     },
     "execution_count": 50,
     "metadata": {},
     "output_type": "execute_result"
    }
   ],
   "source": [
    "Popen(f\"\\\"{honeyview}\\\" {magnolia[0][0]}\", shell=True)"
   ]
  },
  {
   "cell_type": "code",
   "execution_count": 48,
   "metadata": {},
   "outputs": [],
   "source": [
    "for a, _ in magnolia: Popen(f\"\\\"{honeyview}\\\" {a}\", shell=True)"
   ]
  },
  {
   "cell_type": "code",
   "execution_count": 49,
   "metadata": {},
   "outputs": [],
   "source": [
    "for a, _ in magnolia: os.remove(a)"
   ]
  },
  {
   "cell_type": "code",
   "execution_count": 51,
   "metadata": {},
   "outputs": [
    {
     "data": {
      "text/plain": [
       "<Popen: returncode: None args: '\"/mnt/c/Program Files/Honeyview/Honeyview.ex...>"
      ]
     },
     "execution_count": 51,
     "metadata": {},
     "output_type": "execute_result"
    }
   ],
   "source": [
    "Popen(f\"\\\"{honeyview}\\\" {prunus[0][0]}\", shell=True)"
   ]
  },
  {
   "cell_type": "code",
   "execution_count": 52,
   "metadata": {},
   "outputs": [
    {
     "data": {
      "text/plain": [
       "['./data/images_cleaned_train/prunus_subhirtella/17194.jpg',\n",
       " './data/images_cleaned_train/prunus_virginiana/11710.jpg']"
      ]
     },
     "execution_count": 52,
     "metadata": {},
     "output_type": "execute_result"
    }
   ],
   "source": [
    "prunus[0]"
   ]
  },
  {
   "cell_type": "code",
   "execution_count": 56,
   "metadata": {},
   "outputs": [
    {
     "data": {
      "text/plain": [
       "<Popen: returncode: None args: '\"/mnt/c/Program Files/Honeyview/Honeyview.ex...>"
      ]
     },
     "execution_count": 56,
     "metadata": {},
     "output_type": "execute_result"
    }
   ],
   "source": [
    "Popen(f\"\\\"{honeyview}\\\" {prunus[0][1]}\", shell=True)"
   ]
  },
  {
   "cell_type": "code",
   "execution_count": 54,
   "metadata": {},
   "outputs": [],
   "source": [
    "for _, b in prunus: Popen(f\"\\\"{honeyview}\\\" {b}\", shell=True)"
   ]
  },
  {
   "cell_type": "code",
   "execution_count": 57,
   "metadata": {},
   "outputs": [],
   "source": [
    "for _, b in prunus: os.remove(b)"
   ]
  },
  {
   "cell_type": "code",
   "execution_count": 58,
   "metadata": {},
   "outputs": [
    {
     "data": {
      "text/plain": [
       "[]"
      ]
     },
     "execution_count": 58,
     "metadata": {},
     "output_type": "execute_result"
    }
   ],
   "source": [
    "find_duplicate_images(parent_directory)"
   ]
  }
 ],
 "metadata": {
  "kernelspec": {
   "display_name": ".venv",
   "language": "python",
   "name": "python3"
  },
  "language_info": {
   "codemirror_mode": {
    "name": "ipython",
    "version": 3
   },
   "file_extension": ".py",
   "mimetype": "text/x-python",
   "name": "python",
   "nbconvert_exporter": "python",
   "pygments_lexer": "ipython3",
   "version": "3.11.7"
  }
 },
 "nbformat": 4,
 "nbformat_minor": 2
}
